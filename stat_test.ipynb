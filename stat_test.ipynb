{
 "cells": [
  {
   "cell_type": "code",
   "execution_count": 1,
   "metadata": {},
   "outputs": [],
   "source": [
    "import warnings\n",
    "from pathlib import Path\n",
    "\n",
    "import pandas as pd\n",
    "import numpy as np\n",
    "import seaborn as sns\n",
    "\n",
    "warnings.filterwarnings(\"ignore\")"
   ]
  },
  {
   "cell_type": "code",
   "execution_count": 2,
   "metadata": {},
   "outputs": [],
   "source": [
    "EXP_ID = \"apch\"\n",
    "ALPHA = 0.05\n",
    "\n",
    "DATA_DIR = Path().cwd() / \"ecoselekt\" / \"data\"\n",
    "MODELS_DIR = Path().cwd() / \"ecoselekt\" / \"models\"\n",
    "RESULTS_DIR = Path().cwd() / \"results\" / f\"exp_{EXP_ID}\"\n",
    "FIGURES_DIR = Path().cwd() / \"figures\"\n",
    "\n",
    "DATA_DIR.mkdir(parents=True, exist_ok=True)\n",
    "MODELS_DIR.mkdir(parents=True, exist_ok=True)\n",
    "RESULTS_DIR.mkdir(parents=True, exist_ok=True)"
   ]
  },
  {
   "cell_type": "code",
   "execution_count": 3,
   "metadata": {},
   "outputs": [
    {
     "data": {
      "text/html": [
       "<div>\n",
       "<style scoped>\n",
       "    .dataframe tbody tr th:only-of-type {\n",
       "        vertical-align: middle;\n",
       "    }\n",
       "\n",
       "    .dataframe tbody tr th {\n",
       "        vertical-align: top;\n",
       "    }\n",
       "\n",
       "    .dataframe thead th {\n",
       "        text-align: right;\n",
       "    }\n",
       "</style>\n",
       "<table border=\"1\" class=\"dataframe\">\n",
       "  <thead>\n",
       "    <tr style=\"text-align: right;\">\n",
       "      <th></th>\n",
       "      <th>project</th>\n",
       "      <th>precision</th>\n",
       "      <th>recall</th>\n",
       "      <th>f1</th>\n",
       "      <th>auc</th>\n",
       "      <th>gmean</th>\n",
       "      <th>ap</th>\n",
       "      <th>specifi</th>\n",
       "    </tr>\n",
       "  </thead>\n",
       "  <tbody>\n",
       "    <tr>\n",
       "      <th>0</th>\n",
       "      <td>activemq</td>\n",
       "      <td>0.441268</td>\n",
       "      <td>2.753906e-01</td>\n",
       "      <td>0.083984</td>\n",
       "      <td>0.064453</td>\n",
       "      <td>2.753906e-01</td>\n",
       "      <td>0.037109</td>\n",
       "      <td>4.316406e-01</td>\n",
       "    </tr>\n",
       "    <tr>\n",
       "      <th>1</th>\n",
       "      <td>camel</td>\n",
       "      <td>0.001718</td>\n",
       "      <td>1.191505e-07</td>\n",
       "      <td>0.000267</td>\n",
       "      <td>0.034816</td>\n",
       "      <td>4.234167e-07</td>\n",
       "      <td>0.118417</td>\n",
       "      <td>1.347601e-13</td>\n",
       "    </tr>\n",
       "    <tr>\n",
       "      <th>2</th>\n",
       "      <td>cassandra</td>\n",
       "      <td>0.927279</td>\n",
       "      <td>4.074345e-01</td>\n",
       "      <td>0.311794</td>\n",
       "      <td>0.189348</td>\n",
       "      <td>8.694878e-01</td>\n",
       "      <td>0.985435</td>\n",
       "      <td>7.945864e-01</td>\n",
       "    </tr>\n",
       "    <tr>\n",
       "      <th>3</th>\n",
       "      <td>flink</td>\n",
       "      <td>0.038457</td>\n",
       "      <td>6.628649e-01</td>\n",
       "      <td>0.942872</td>\n",
       "      <td>0.144384</td>\n",
       "      <td>3.964651e-01</td>\n",
       "      <td>0.719987</td>\n",
       "      <td>2.784377e-02</td>\n",
       "    </tr>\n",
       "    <tr>\n",
       "      <th>4</th>\n",
       "      <td>groovy</td>\n",
       "      <td>0.113987</td>\n",
       "      <td>1.238766e-01</td>\n",
       "      <td>0.116544</td>\n",
       "      <td>0.521673</td>\n",
       "      <td>3.682766e-01</td>\n",
       "      <td>0.647655</td>\n",
       "      <td>2.422372e-02</td>\n",
       "    </tr>\n",
       "  </tbody>\n",
       "</table>\n",
       "</div>"
      ],
      "text/plain": [
       "     project  precision        recall        f1       auc         gmean  \\\n",
       "0   activemq   0.441268  2.753906e-01  0.083984  0.064453  2.753906e-01   \n",
       "1      camel   0.001718  1.191505e-07  0.000267  0.034816  4.234167e-07   \n",
       "2  cassandra   0.927279  4.074345e-01  0.311794  0.189348  8.694878e-01   \n",
       "3      flink   0.038457  6.628649e-01  0.942872  0.144384  3.964651e-01   \n",
       "4     groovy   0.113987  1.238766e-01  0.116544  0.521673  3.682766e-01   \n",
       "\n",
       "         ap       specifi  \n",
       "0  0.037109  4.316406e-01  \n",
       "1  0.118417  1.347601e-13  \n",
       "2  0.985435  7.945864e-01  \n",
       "3  0.719987  2.784377e-02  \n",
       "4  0.647655  2.422372e-02  "
      ]
     },
     "execution_count": 3,
     "metadata": {},
     "output_type": "execute_result"
    }
   ],
   "source": [
    "stats_df = pd.read_csv(RESULTS_DIR / f\"{EXP_ID}_stats.csv\")\n",
    "stats_df.head()"
   ]
  },
  {
   "cell_type": "code",
   "execution_count": 4,
   "metadata": {},
   "outputs": [
    {
     "name": "stdout",
     "output_type": "stream",
     "text": [
      "           precision  recall  f1  auc  gmean  ap  specifi\n",
      "project                                                  \n",
      "activemq           0       0   0    0      0   1        0\n",
      "camel              1       1   1    1      1   0        1\n",
      "cassandra          0       0   0    0      0   0        0\n",
      "flink              1       0   0    0      0   0        1\n",
      "groovy             0       0   0    0      0   0        1\n",
      "           precision  recall     f1    auc  gmean     ap  specifi\n",
      "project                                                          \n",
      "activemq       0.441   0.275  0.084  0.064  0.275  0.037    0.432\n",
      "camel          0.002   0.000  0.000  0.035  0.000  0.118    0.000\n",
      "cassandra      0.927   0.407  0.312  0.189  0.869  0.985    0.795\n",
      "flink          0.038   0.663  0.943  0.144  0.396  0.720    0.028\n",
      "groovy         0.114   0.124  0.117  0.522  0.368  0.648    0.024\n"
     ]
    }
   ],
   "source": [
    "# prepare data for heatmap of p-values\n",
    "annot_p_values = np.array(stats_df.iloc[:, 1:])\n",
    "p_values = np.where(annot_p_values < ALPHA, 1, 0)\n",
    "p_values = pd.DataFrame(p_values, columns=stats_df.columns[1:])\n",
    "annot_p_values = pd.DataFrame(annot_p_values, columns=stats_df.columns[1:])\n",
    "p_values[\"project\"] = stats_df[\"project\"]\n",
    "annot_p_values[\"project\"] = stats_df[\"project\"]\n",
    "p_values = p_values.set_index(\"project\")\n",
    "annot_p_values = annot_p_values.set_index(\"project\")\n",
    "\n",
    "p_values = p_values.astype(int)\n",
    "print(p_values.head())\n",
    "\n",
    "annot_p_values = annot_p_values.round(3)\n",
    "print(annot_p_values.head())"
   ]
  },
  {
   "cell_type": "code",
   "execution_count": 5,
   "metadata": {},
   "outputs": [
    {
     "name": "stdout",
     "output_type": "stream",
     "text": [
      "\\begin{tabular}{lrrrrrrr}\n",
      "\\toprule\n",
      "{} &  precision &  recall &     f1 &    auc &  gmean &     ap &  specifi \\\\\n",
      "project   &            &         &        &        &        &        &          \\\\\n",
      "\\midrule\n",
      "activemq  &      0.441 &   0.275 &  0.084 &  0.064 &  0.275 &  0.037 &    0.432 \\\\\n",
      "camel     &      0.002 &   0.000 &  0.000 &  0.035 &  0.000 &  0.118 &    0.000 \\\\\n",
      "cassandra &      0.927 &   0.407 &  0.312 &  0.189 &  0.869 &  0.985 &    0.795 \\\\\n",
      "flink     &      0.038 &   0.663 &  0.943 &  0.144 &  0.396 &  0.720 &    0.028 \\\\\n",
      "groovy    &      0.114 &   0.124 &  0.117 &  0.522 &  0.368 &  0.648 &    0.024 \\\\\n",
      "hbase     &      0.000 &   0.000 &  0.300 &  0.445 &  0.003 &  0.092 &    0.000 \\\\\n",
      "hive      &      0.000 &   0.000 &  0.583 &  0.119 &  0.002 &  0.194 &    0.001 \\\\\n",
      "ignite    &      0.000 &   0.000 &  0.042 &  0.009 &  0.000 &  0.900 &    0.000 \\\\\n",
      "\\bottomrule\n",
      "\\end{tabular}\n",
      "\n"
     ]
    }
   ],
   "source": [
    "# print latex table\n",
    "print(annot_p_values.to_latex())"
   ]
  },
  {
   "cell_type": "code",
   "execution_count": 6,
   "metadata": {},
   "outputs": [
    {
     "data": {
      "text/plain": [
       "<AxesSubplot: ylabel='project'>"
      ]
     },
     "execution_count": 6,
     "metadata": {},
     "output_type": "execute_result"
    },
    {
     "data": {
      "image/png": "[encoded data removed]",
      "text/plain": [
       "<Figure size 640x480 with 2 Axes>"
      ]
     },
     "metadata": {},
     "output_type": "display_data"
    }
   ],
   "source": [
    "sns.heatmap(p_values, annot=annot_p_values, cmap=\"Blues\", fmt=\".3f\", vmin=0, vmax=1, square=True)"
   ]
  },
  {
   "cell_type": "code",
   "execution_count": 7,
   "metadata": {},
   "outputs": [
    {
     "data": {
      "text/html": [
       "<div>\n",
       "<style scoped>\n",
       "    .dataframe tbody tr th:only-of-type {\n",
       "        vertical-align: middle;\n",
       "    }\n",
       "\n",
       "    .dataframe tbody tr th {\n",
       "        vertical-align: top;\n",
       "    }\n",
       "\n",
       "    .dataframe thead th {\n",
       "        text-align: right;\n",
       "    }\n",
       "</style>\n",
       "<table border=\"1\" class=\"dataframe\">\n",
       "  <thead>\n",
       "    <tr style=\"text-align: right;\">\n",
       "      <th></th>\n",
       "      <th>project</th>\n",
       "      <th>precision</th>\n",
       "      <th>recall</th>\n",
       "      <th>auc</th>\n",
       "      <th>gmean</th>\n",
       "    </tr>\n",
       "  </thead>\n",
       "  <tbody>\n",
       "    <tr>\n",
       "      <th>0</th>\n",
       "      <td>activemq</td>\n",
       "      <td>negligible</td>\n",
       "      <td>small</td>\n",
       "      <td>negligible</td>\n",
       "      <td>small</td>\n",
       "    </tr>\n",
       "    <tr>\n",
       "      <th>1</th>\n",
       "      <td>camel</td>\n",
       "      <td>negligible</td>\n",
       "      <td>small</td>\n",
       "      <td>negligible</td>\n",
       "      <td>small</td>\n",
       "    </tr>\n",
       "    <tr>\n",
       "      <th>2</th>\n",
       "      <td>cassandra</td>\n",
       "      <td>negligible</td>\n",
       "      <td>negligible</td>\n",
       "      <td>negligible</td>\n",
       "      <td>negligible</td>\n",
       "    </tr>\n",
       "    <tr>\n",
       "      <th>3</th>\n",
       "      <td>flink</td>\n",
       "      <td>negligible</td>\n",
       "      <td>negligible</td>\n",
       "      <td>negligible</td>\n",
       "      <td>negligible</td>\n",
       "    </tr>\n",
       "    <tr>\n",
       "      <th>4</th>\n",
       "      <td>groovy</td>\n",
       "      <td>small</td>\n",
       "      <td>small</td>\n",
       "      <td>negligible</td>\n",
       "      <td>negligible</td>\n",
       "    </tr>\n",
       "  </tbody>\n",
       "</table>\n",
       "</div>"
      ],
      "text/plain": [
       "     project   precision      recall         auc       gmean\n",
       "0   activemq  negligible       small  negligible       small\n",
       "1      camel  negligible       small  negligible       small\n",
       "2  cassandra  negligible  negligible  negligible  negligible\n",
       "3      flink  negligible  negligible  negligible  negligible\n",
       "4     groovy       small       small  negligible  negligible"
      ]
     },
     "execution_count": 7,
     "metadata": {},
     "output_type": "execute_result"
    }
   ],
   "source": [
    "cliff_df = pd.read_csv(RESULTS_DIR / f\"{EXP_ID}_cliff.csv\")\n",
    "cliff_df = cliff_df[[\"project\", \"precision\", \"recall\", \"auc\", \"gmean\"]]\n",
    "cliff_df.head()"
   ]
  },
  {
   "cell_type": "code",
   "execution_count": 8,
   "metadata": {},
   "outputs": [
    {
     "name": "stdout",
     "output_type": "stream",
     "text": [
      "            precision      recall         auc       gmean\n",
      "project                                                  \n",
      "activemq   negligible       small  negligible       small\n",
      "camel      negligible       small  negligible       small\n",
      "cassandra  negligible  negligible  negligible  negligible\n",
      "flink      negligible  negligible  negligible  negligible\n",
      "groovy          small       small  negligible  negligible\n"
     ]
    }
   ],
   "source": [
    "# prepare data for heatmap of p-values\n",
    "annot_p_values = np.array(cliff_df.iloc[:, 1:])\n",
    "annot_p_values = pd.DataFrame(annot_p_values, columns=cliff_df.columns[1:])\n",
    "annot_p_values[\"project\"] = cliff_df[\"project\"]\n",
    "annot_p_values = annot_p_values.set_index(\"project\")\n",
    "\n",
    "print(annot_p_values.head())"
   ]
  },
  {
   "cell_type": "code",
   "execution_count": 9,
   "metadata": {},
   "outputs": [
    {
     "name": "stdout",
     "output_type": "stream",
     "text": [
      "\\begin{tabular}{lllll}\n",
      "\\toprule\n",
      "{} &   precision &      recall &         auc &       gmean \\\\\n",
      "project   &             &             &             &             \\\\\n",
      "\\midrule\n",
      "activemq  &  negligible &       small &  negligible &       small \\\\\n",
      "camel     &  negligible &       small &  negligible &       small \\\\\n",
      "cassandra &  negligible &  negligible &  negligible &  negligible \\\\\n",
      "flink     &  negligible &  negligible &  negligible &  negligible \\\\\n",
      "groovy    &       small &       small &  negligible &  negligible \\\\\n",
      "hbase     &       small &      medium &  negligible &       small \\\\\n",
      "hive      &       small &       large &  negligible &       large \\\\\n",
      "ignite    &      medium &      medium &  negligible &       small \\\\\n",
      "\\bottomrule\n",
      "\\end{tabular}\n",
      "\n"
     ]
    }
   ],
   "source": [
    "# print latex table\n",
    "print(annot_p_values.to_latex())"
   ]
  },
  {
   "cell_type": "code",
   "execution_count": 10,
   "metadata": {},
   "outputs": [
    {
     "name": "stdout",
     "output_type": "stream",
     "text": [
      "           precision  recall    auc  gmean\n",
      "project                                   \n",
      "activemq       0.441   0.275  0.064  0.275\n",
      "camel          0.002   0.000  0.035  0.000\n",
      "cassandra      0.927   0.407  0.189  0.869\n",
      "flink          0.038   0.663  0.144  0.396\n",
      "groovy         0.114   0.124  0.522  0.368\n"
     ]
    }
   ],
   "source": [
    "stats_df = stats_df[[\"project\", \"precision\", \"recall\", \"auc\", \"gmean\"]]\n",
    "# prepare data for heatmap of p-values\n",
    "annot_p_values = np.array(stats_df.iloc[:, 1:])\n",
    "annot_p_values = pd.DataFrame(annot_p_values, columns=stats_df.columns[1:])\n",
    "annot_p_values[\"project\"] = stats_df[\"project\"]\n",
    "annot_p_values = annot_p_values.set_index(\"project\")\n",
    "\n",
    "annot_p_values = annot_p_values.round(3)\n",
    "print(annot_p_values.head())"
   ]
  },
  {
   "cell_type": "code",
   "execution_count": 11,
   "metadata": {},
   "outputs": [
    {
     "name": "stdout",
     "output_type": "stream",
     "text": [
      "\\begin{tabular}{lrrrr}\n",
      "\\toprule\n",
      "{} &  precision &  recall &    auc &  gmean \\\\\n",
      "project   &            &         &        &        \\\\\n",
      "\\midrule\n",
      "activemq  &      0.441 &   0.275 &  0.064 &  0.275 \\\\\n",
      "camel     &      0.002 &   0.000 &  0.035 &  0.000 \\\\\n",
      "cassandra &      0.927 &   0.407 &  0.189 &  0.869 \\\\\n",
      "flink     &      0.038 &   0.663 &  0.144 &  0.396 \\\\\n",
      "groovy    &      0.114 &   0.124 &  0.522 &  0.368 \\\\\n",
      "hbase     &      0.000 &   0.000 &  0.445 &  0.003 \\\\\n",
      "hive      &      0.000 &   0.000 &  0.119 &  0.002 \\\\\n",
      "ignite    &      0.000 &   0.000 &  0.009 &  0.000 \\\\\n",
      "\\bottomrule\n",
      "\\end{tabular}\n",
      "\n"
     ]
    }
   ],
   "source": [
    "# print latex table\n",
    "print(annot_p_values.to_latex())"
   ]
  },
  {
   "cell_type": "code",
   "execution_count": null,
   "metadata": {},
   "outputs": [],
   "source": []
  }
 ],
 "metadata": {
  "kernelspec": {
   "display_name": "ecoselekt",
   "language": "python",
   "name": "python3"
  },
  "language_info": {
   "codemirror_mode": {
    "name": "ipython",
    "version": 3
   },
   "file_extension": ".py",
   "mimetype": "text/x-python",
   "name": "python",
   "nbconvert_exporter": "python",
   "pygments_lexer": "ipython3",
   "version": "3.9.13"
  },
  "orig_nbformat": 4
 },
 "nbformat": 4,
 "nbformat_minor": 2
}
