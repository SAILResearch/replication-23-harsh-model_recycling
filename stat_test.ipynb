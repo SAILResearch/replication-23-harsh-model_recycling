{
 "cells": [
  {
   "cell_type": "code",
   "execution_count": 1,
   "metadata": {},
   "outputs": [],
   "source": [
    "import warnings\n",
    "from pathlib import Path\n",
    "\n",
    "import pandas as pd\n",
    "import numpy as np\n",
    "import seaborn as sns\n",
    "\n",
    "warnings.filterwarnings(\"ignore\")"
   ]
  },
  {
   "cell_type": "code",
   "execution_count": 2,
   "metadata": {},
   "outputs": [],
   "source": [
    "EXP_ID = \"apch\"\n",
    "ALPHA = 0.05\n",
    "\n",
    "DATA_DIR = Path().cwd() / \"ecoselekt\" / \"data\"\n",
    "MODELS_DIR = Path().cwd() / \"ecoselekt\" / \"models\"\n",
    "RESULTS_DIR = Path().cwd() / \"results\" / f\"exp_{EXP_ID}\"\n",
    "FIGURES_DIR = Path().cwd() / \"figures\"\n",
    "\n",
    "DATA_DIR.mkdir(parents=True, exist_ok=True)\n",
    "MODELS_DIR.mkdir(parents=True, exist_ok=True)\n",
    "RESULTS_DIR.mkdir(parents=True, exist_ok=True)"
   ]
  },
  {
   "cell_type": "code",
   "execution_count": 3,
   "metadata": {},
   "outputs": [
    {
     "data": {
      "text/html": [
       "<div>\n",
       "<style scoped>\n",
       "    .dataframe tbody tr th:only-of-type {\n",
       "        vertical-align: middle;\n",
       "    }\n",
       "\n",
       "    .dataframe tbody tr th {\n",
       "        vertical-align: top;\n",
       "    }\n",
       "\n",
       "    .dataframe thead th {\n",
       "        text-align: right;\n",
       "    }\n",
       "</style>\n",
       "<table border=\"1\" class=\"dataframe\">\n",
       "  <thead>\n",
       "    <tr style=\"text-align: right;\">\n",
       "      <th></th>\n",
       "      <th>project</th>\n",
       "      <th>precision</th>\n",
       "      <th>recall</th>\n",
       "      <th>f1</th>\n",
       "      <th>auc</th>\n",
       "      <th>gmean</th>\n",
       "      <th>ap</th>\n",
       "      <th>specifi</th>\n",
       "    </tr>\n",
       "  </thead>\n",
       "  <tbody>\n",
       "    <tr>\n",
       "      <th>0</th>\n",
       "      <td>activemq</td>\n",
       "      <td>0.921875</td>\n",
       "      <td>3.222656e-01</td>\n",
       "      <td>0.064453</td>\n",
       "      <td>0.921875</td>\n",
       "      <td>3.222656e-01</td>\n",
       "      <td>0.048828</td>\n",
       "      <td>4.921875e-01</td>\n",
       "    </tr>\n",
       "    <tr>\n",
       "      <th>1</th>\n",
       "      <td>camel</td>\n",
       "      <td>0.016196</td>\n",
       "      <td>8.919551e-09</td>\n",
       "      <td>0.000065</td>\n",
       "      <td>0.002357</td>\n",
       "      <td>6.237476e-07</td>\n",
       "      <td>0.495598</td>\n",
       "      <td>9.031360e-13</td>\n",
       "    </tr>\n",
       "    <tr>\n",
       "      <th>2</th>\n",
       "      <td>cassandra</td>\n",
       "      <td>0.869488</td>\n",
       "      <td>6.790730e-01</td>\n",
       "      <td>0.840822</td>\n",
       "      <td>0.164957</td>\n",
       "      <td>5.458755e-01</td>\n",
       "      <td>0.202450</td>\n",
       "      <td>7.172178e-01</td>\n",
       "    </tr>\n",
       "    <tr>\n",
       "      <th>3</th>\n",
       "      <td>flink</td>\n",
       "      <td>0.002405</td>\n",
       "      <td>5.505061e-01</td>\n",
       "      <td>0.965705</td>\n",
       "      <td>0.313835</td>\n",
       "      <td>6.055172e-01</td>\n",
       "      <td>0.412756</td>\n",
       "      <td>1.165611e-02</td>\n",
       "    </tr>\n",
       "    <tr>\n",
       "      <th>4</th>\n",
       "      <td>groovy</td>\n",
       "      <td>0.164957</td>\n",
       "      <td>3.293821e-02</td>\n",
       "      <td>0.029575</td>\n",
       "      <td>0.053169</td>\n",
       "      <td>1.536465e-01</td>\n",
       "      <td>0.570597</td>\n",
       "      <td>3.638546e-02</td>\n",
       "    </tr>\n",
       "  </tbody>\n",
       "</table>\n",
       "</div>"
      ],
      "text/plain": [
       "     project  precision        recall        f1       auc         gmean  \\\n",
       "0   activemq   0.921875  3.222656e-01  0.064453  0.921875  3.222656e-01   \n",
       "1      camel   0.016196  8.919551e-09  0.000065  0.002357  6.237476e-07   \n",
       "2  cassandra   0.869488  6.790730e-01  0.840822  0.164957  5.458755e-01   \n",
       "3      flink   0.002405  5.505061e-01  0.965705  0.313835  6.055172e-01   \n",
       "4     groovy   0.164957  3.293821e-02  0.029575  0.053169  1.536465e-01   \n",
       "\n",
       "         ap       specifi  \n",
       "0  0.048828  4.921875e-01  \n",
       "1  0.495598  9.031360e-13  \n",
       "2  0.202450  7.172178e-01  \n",
       "3  0.412756  1.165611e-02  \n",
       "4  0.570597  3.638546e-02  "
      ]
     },
     "execution_count": 3,
     "metadata": {},
     "output_type": "execute_result"
    }
   ],
   "source": [
    "stats_df = pd.read_csv(RESULTS_DIR / f\"{EXP_ID}_stats.csv\")\n",
    "stats_df.head()"
   ]
  },
  {
   "cell_type": "code",
   "execution_count": 4,
   "metadata": {},
   "outputs": [
    {
     "name": "stdout",
     "output_type": "stream",
     "text": [
      "           precision  recall  f1  auc  gmean  ap  specifi\n",
      "project                                                  \n",
      "activemq           0       0   0    0      0   1        0\n",
      "camel              1       1   1    1      1   0        1\n",
      "cassandra          0       0   0    0      0   0        0\n",
      "flink              1       0   0    0      0   0        1\n",
      "groovy             0       1   1    0      0   0        1\n",
      "           precision  recall     f1    auc  gmean     ap  specifi\n",
      "project                                                          \n",
      "activemq       0.922   0.322  0.064  0.922  0.322  0.049    0.492\n",
      "camel          0.016   0.000  0.000  0.002  0.000  0.496    0.000\n",
      "cassandra      0.869   0.679  0.841  0.165  0.546  0.202    0.717\n",
      "flink          0.002   0.551  0.966  0.314  0.606  0.413    0.012\n",
      "groovy         0.165   0.033  0.030  0.053  0.154  0.571    0.036\n"
     ]
    }
   ],
   "source": [
    "# prepare data for heatmap of p-values\n",
    "annot_p_values = np.array(stats_df.iloc[:, 1:])\n",
    "p_values = np.where(annot_p_values < ALPHA, 1, 0)\n",
    "p_values = pd.DataFrame(p_values, columns=stats_df.columns[1:])\n",
    "annot_p_values = pd.DataFrame(annot_p_values, columns=stats_df.columns[1:])\n",
    "p_values[\"project\"] = stats_df[\"project\"]\n",
    "annot_p_values[\"project\"] = stats_df[\"project\"]\n",
    "p_values = p_values.set_index(\"project\")\n",
    "annot_p_values = annot_p_values.set_index(\"project\")\n",
    "\n",
    "p_values = p_values.astype(int)\n",
    "print(p_values.head())\n",
    "\n",
    "annot_p_values = annot_p_values.round(3)\n",
    "print(annot_p_values.head())"
   ]
  },
  {
   "cell_type": "code",
   "execution_count": 5,
   "metadata": {},
   "outputs": [
    {
     "name": "stdout",
     "output_type": "stream",
     "text": [
      "\\begin{tabular}{lrrrrrrr}\n",
      "\\toprule\n",
      "{} &  precision &  recall &     f1 &    auc &  gmean &     ap &  specifi \\\\\n",
      "project   &            &         &        &        &        &        &          \\\\\n",
      "\\midrule\n",
      "activemq  &      0.922 &   0.322 &  0.064 &  0.922 &  0.322 &  0.049 &    0.492 \\\\\n",
      "camel     &      0.016 &   0.000 &  0.000 &  0.002 &  0.000 &  0.496 &    0.000 \\\\\n",
      "cassandra &      0.869 &   0.679 &  0.841 &  0.165 &  0.546 &  0.202 &    0.717 \\\\\n",
      "flink     &      0.002 &   0.551 &  0.966 &  0.314 &  0.606 &  0.413 &    0.012 \\\\\n",
      "groovy    &      0.165 &   0.033 &  0.030 &  0.053 &  0.154 &  0.571 &    0.036 \\\\\n",
      "hbase     &      0.005 &   0.000 &  0.377 &  0.092 &  0.580 &  0.005 &    0.000 \\\\\n",
      "hive      &      0.011 &   0.002 &  0.952 &  0.217 &  0.035 &  0.194 &    0.002 \\\\\n",
      "ignite    &      0.000 &   0.000 &  0.017 &  0.003 &  0.000 &  0.536 &    0.000 \\\\\n",
      "\\bottomrule\n",
      "\\end{tabular}\n",
      "\n"
     ]
    }
   ],
   "source": [
    "# print latex table\n",
    "print(annot_p_values.to_latex())"
   ]
  },
  {
   "cell_type": "code",
   "execution_count": 6,
   "metadata": {},
   "outputs": [
    {
     "data": {
      "text/plain": [
       "<AxesSubplot: ylabel='project'>"
      ]
     },
     "execution_count": 6,
     "metadata": {},
     "output_type": "execute_result"
    },
    {
     "data": {
      "image/png": "[encoded data removed]",
      "text/plain": [
       "<Figure size 640x480 with 2 Axes>"
      ]
     },
     "metadata": {},
     "output_type": "display_data"
    }
   ],
   "source": [
    "sns.heatmap(p_values, annot=annot_p_values, cmap=\"Blues\", fmt=\".3f\", vmin=0, vmax=1, square=True)"
   ]
  },
  {
   "cell_type": "code",
   "execution_count": 8,
   "metadata": {},
   "outputs": [
    {
     "data": {
      "text/html": [
       "<div>\n",
       "<style scoped>\n",
       "    .dataframe tbody tr th:only-of-type {\n",
       "        vertical-align: middle;\n",
       "    }\n",
       "\n",
       "    .dataframe tbody tr th {\n",
       "        vertical-align: top;\n",
       "    }\n",
       "\n",
       "    .dataframe thead th {\n",
       "        text-align: right;\n",
       "    }\n",
       "</style>\n",
       "<table border=\"1\" class=\"dataframe\">\n",
       "  <thead>\n",
       "    <tr style=\"text-align: right;\">\n",
       "      <th></th>\n",
       "      <th>project</th>\n",
       "      <th>precision</th>\n",
       "      <th>recall</th>\n",
       "      <th>f1</th>\n",
       "      <th>auc</th>\n",
       "      <th>gmean</th>\n",
       "      <th>ap</th>\n",
       "      <th>specifi</th>\n",
       "    </tr>\n",
       "  </thead>\n",
       "  <tbody>\n",
       "    <tr>\n",
       "      <th>0</th>\n",
       "      <td>activemq</td>\n",
       "      <td>negligible</td>\n",
       "      <td>small</td>\n",
       "      <td>small</td>\n",
       "      <td>negligible</td>\n",
       "      <td>small</td>\n",
       "      <td>negligible</td>\n",
       "      <td>small</td>\n",
       "    </tr>\n",
       "    <tr>\n",
       "      <th>1</th>\n",
       "      <td>camel</td>\n",
       "      <td>negligible</td>\n",
       "      <td>small</td>\n",
       "      <td>negligible</td>\n",
       "      <td>negligible</td>\n",
       "      <td>small</td>\n",
       "      <td>negligible</td>\n",
       "      <td>small</td>\n",
       "    </tr>\n",
       "    <tr>\n",
       "      <th>2</th>\n",
       "      <td>cassandra</td>\n",
       "      <td>negligible</td>\n",
       "      <td>negligible</td>\n",
       "      <td>negligible</td>\n",
       "      <td>negligible</td>\n",
       "      <td>negligible</td>\n",
       "      <td>negligible</td>\n",
       "      <td>negligible</td>\n",
       "    </tr>\n",
       "    <tr>\n",
       "      <th>3</th>\n",
       "      <td>flink</td>\n",
       "      <td>negligible</td>\n",
       "      <td>negligible</td>\n",
       "      <td>negligible</td>\n",
       "      <td>negligible</td>\n",
       "      <td>negligible</td>\n",
       "      <td>negligible</td>\n",
       "      <td>small</td>\n",
       "    </tr>\n",
       "    <tr>\n",
       "      <th>4</th>\n",
       "      <td>groovy</td>\n",
       "      <td>small</td>\n",
       "      <td>medium</td>\n",
       "      <td>small</td>\n",
       "      <td>negligible</td>\n",
       "      <td>small</td>\n",
       "      <td>negligible</td>\n",
       "      <td>small</td>\n",
       "    </tr>\n",
       "  </tbody>\n",
       "</table>\n",
       "</div>"
      ],
      "text/plain": [
       "     project   precision      recall          f1         auc       gmean  \\\n",
       "0   activemq  negligible       small       small  negligible       small   \n",
       "1      camel  negligible       small  negligible  negligible       small   \n",
       "2  cassandra  negligible  negligible  negligible  negligible  negligible   \n",
       "3      flink  negligible  negligible  negligible  negligible  negligible   \n",
       "4     groovy       small      medium       small  negligible       small   \n",
       "\n",
       "           ap     specifi  \n",
       "0  negligible       small  \n",
       "1  negligible       small  \n",
       "2  negligible  negligible  \n",
       "3  negligible       small  \n",
       "4  negligible       small  "
      ]
     },
     "execution_count": 8,
     "metadata": {},
     "output_type": "execute_result"
    }
   ],
   "source": [
    "cliff_df = pd.read_csv(RESULTS_DIR / f\"{EXP_ID}_cliff.csv\")\n",
    "cliff_df.head()"
   ]
  },
  {
   "cell_type": "code",
   "execution_count": 11,
   "metadata": {},
   "outputs": [
    {
     "name": "stdout",
     "output_type": "stream",
     "text": [
      "            precision      recall          f1         auc       gmean  \\\n",
      "project                                                                 \n",
      "activemq   negligible       small       small  negligible       small   \n",
      "camel      negligible       small  negligible  negligible       small   \n",
      "cassandra  negligible  negligible  negligible  negligible  negligible   \n",
      "flink      negligible  negligible  negligible  negligible  negligible   \n",
      "groovy          small      medium       small  negligible       small   \n",
      "\n",
      "                   ap     specifi  \n",
      "project                            \n",
      "activemq   negligible       small  \n",
      "camel      negligible       small  \n",
      "cassandra  negligible  negligible  \n",
      "flink      negligible       small  \n",
      "groovy     negligible       small  \n"
     ]
    }
   ],
   "source": [
    "# prepare data for heatmap of p-values\n",
    "annot_p_values = np.array(cliff_df.iloc[:, 1:])\n",
    "annot_p_values = pd.DataFrame(annot_p_values, columns=cliff_df.columns[1:])\n",
    "annot_p_values[\"project\"] = cliff_df[\"project\"]\n",
    "annot_p_values = annot_p_values.set_index(\"project\")\n",
    "\n",
    "print(annot_p_values.head())"
   ]
  },
  {
   "cell_type": "code",
   "execution_count": 12,
   "metadata": {},
   "outputs": [
    {
     "name": "stdout",
     "output_type": "stream",
     "text": [
      "\\begin{tabular}{llllllll}\n",
      "\\toprule\n",
      "{} &   precision &      recall &          f1 &         auc &       gmean &          ap &     specifi \\\\\n",
      "project   &             &             &             &             &             &             &             \\\\\n",
      "\\midrule\n",
      "activemq  &  negligible &       small &       small &  negligible &       small &  negligible &       small \\\\\n",
      "camel     &  negligible &       small &  negligible &  negligible &       small &  negligible &       small \\\\\n",
      "cassandra &  negligible &  negligible &  negligible &  negligible &  negligible &  negligible &  negligible \\\\\n",
      "flink     &  negligible &  negligible &  negligible &  negligible &  negligible &  negligible &       small \\\\\n",
      "groovy    &       small &      medium &       small &  negligible &       small &  negligible &       small \\\\\n",
      "hbase     &  negligible &      medium &  negligible &  negligible &  negligible &  negligible &      medium \\\\\n",
      "hive      &       small &       large &  negligible &  negligible &      medium &  negligible &       large \\\\\n",
      "ignite    &      medium &       small &  negligible &  negligible &       small &  negligible &      medium \\\\\n",
      "\\bottomrule\n",
      "\\end{tabular}\n",
      "\n"
     ]
    }
   ],
   "source": [
    "# print latex table\n",
    "print(annot_p_values.to_latex())"
   ]
  },
  {
   "cell_type": "code",
   "execution_count": null,
   "metadata": {},
   "outputs": [],
   "source": []
  }
 ],
 "metadata": {
  "kernelspec": {
   "display_name": "ecoselekt",
   "language": "python",
   "name": "python3"
  },
  "language_info": {
   "codemirror_mode": {
    "name": "ipython",
    "version": 3
   },
   "file_extension": ".py",
   "mimetype": "text/x-python",
   "name": "python",
   "nbconvert_exporter": "python",
   "pygments_lexer": "ipython3",
   "version": "3.9.13"
  },
  "orig_nbformat": 4
 },
 "nbformat": 4,
 "nbformat_minor": 2
}
