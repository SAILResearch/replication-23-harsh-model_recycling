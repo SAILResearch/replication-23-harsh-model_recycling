{
 "cells": [
  {
   "cell_type": "code",
   "execution_count": 1,
   "metadata": {},
   "outputs": [],
   "source": [
    "import warnings\n",
    "from pathlib import Path\n",
    "\n",
    "import pandas as pd\n",
    "import numpy as np\n",
    "import seaborn as sns\n",
    "\n",
    "warnings.filterwarnings(\"ignore\")"
   ]
  },
  {
   "cell_type": "code",
   "execution_count": 2,
   "metadata": {},
   "outputs": [],
   "source": [
    "EXP_ID = \"apch\"\n",
    "ALPHA = 0.05\n",
    "\n",
    "DATA_DIR = Path().cwd() / \"ecoselekt\" / \"data\"\n",
    "MODELS_DIR = Path().cwd() / \"ecoselekt\" / \"models\"\n",
    "RESULTS_DIR = Path().cwd() / \"results\" / f\"exp_{EXP_ID}\"\n",
    "FIGURES_DIR = Path().cwd() / \"figures\"\n",
    "\n",
    "DATA_DIR.mkdir(parents=True, exist_ok=True)\n",
    "MODELS_DIR.mkdir(parents=True, exist_ok=True)\n",
    "RESULTS_DIR.mkdir(parents=True, exist_ok=True)"
   ]
  },
  {
   "cell_type": "code",
   "execution_count": 3,
   "metadata": {},
   "outputs": [
    {
     "data": {
      "text/html": [
       "<div>\n",
       "<style scoped>\n",
       "    .dataframe tbody tr th:only-of-type {\n",
       "        vertical-align: middle;\n",
       "    }\n",
       "\n",
       "    .dataframe tbody tr th {\n",
       "        vertical-align: top;\n",
       "    }\n",
       "\n",
       "    .dataframe thead th {\n",
       "        text-align: right;\n",
       "    }\n",
       "</style>\n",
       "<table border=\"1\" class=\"dataframe\">\n",
       "  <thead>\n",
       "    <tr style=\"text-align: right;\">\n",
       "      <th></th>\n",
       "      <th>project</th>\n",
       "      <th>precision</th>\n",
       "      <th>recall</th>\n",
       "      <th>f1</th>\n",
       "      <th>auc</th>\n",
       "      <th>gmean</th>\n",
       "      <th>ap</th>\n",
       "      <th>specifi</th>\n",
       "    </tr>\n",
       "  </thead>\n",
       "  <tbody>\n",
       "    <tr>\n",
       "      <th>0</th>\n",
       "      <td>activemq</td>\n",
       "      <td>1.953125e-03</td>\n",
       "      <td>7.685794e-03</td>\n",
       "      <td>1.953125e-03</td>\n",
       "      <td>1.953125e-03</td>\n",
       "      <td>1.953125e-03</td>\n",
       "      <td>1.953125e-03</td>\n",
       "      <td>1.953125e-03</td>\n",
       "    </tr>\n",
       "    <tr>\n",
       "      <th>1</th>\n",
       "      <td>camel</td>\n",
       "      <td>6.307189e-12</td>\n",
       "      <td>5.969591e-12</td>\n",
       "      <td>7.746009e-13</td>\n",
       "      <td>1.131486e-16</td>\n",
       "      <td>3.296897e-12</td>\n",
       "      <td>9.206337e-16</td>\n",
       "      <td>8.956980e-06</td>\n",
       "    </tr>\n",
       "    <tr>\n",
       "      <th>2</th>\n",
       "      <td>cassandra</td>\n",
       "      <td>1.907349e-06</td>\n",
       "      <td>1.907349e-06</td>\n",
       "      <td>1.907349e-06</td>\n",
       "      <td>1.907349e-06</td>\n",
       "      <td>1.907349e-06</td>\n",
       "      <td>1.907349e-06</td>\n",
       "      <td>1.907349e-06</td>\n",
       "    </tr>\n",
       "    <tr>\n",
       "      <th>3</th>\n",
       "      <td>flink</td>\n",
       "      <td>7.275958e-12</td>\n",
       "      <td>7.275958e-12</td>\n",
       "      <td>7.275958e-12</td>\n",
       "      <td>7.275958e-12</td>\n",
       "      <td>7.275958e-12</td>\n",
       "      <td>7.275958e-12</td>\n",
       "      <td>1.382432e-10</td>\n",
       "    </tr>\n",
       "    <tr>\n",
       "      <th>4</th>\n",
       "      <td>groovy</td>\n",
       "      <td>1.907349e-06</td>\n",
       "      <td>1.907349e-06</td>\n",
       "      <td>1.907349e-06</td>\n",
       "      <td>1.907349e-06</td>\n",
       "      <td>1.907349e-06</td>\n",
       "      <td>1.907349e-06</td>\n",
       "      <td>5.491206e-03</td>\n",
       "    </tr>\n",
       "  </tbody>\n",
       "</table>\n",
       "</div>"
      ],
      "text/plain": [
       "     project     precision        recall            f1           auc  \\\n",
       "0   activemq  1.953125e-03  7.685794e-03  1.953125e-03  1.953125e-03   \n",
       "1      camel  6.307189e-12  5.969591e-12  7.746009e-13  1.131486e-16   \n",
       "2  cassandra  1.907349e-06  1.907349e-06  1.907349e-06  1.907349e-06   \n",
       "3      flink  7.275958e-12  7.275958e-12  7.275958e-12  7.275958e-12   \n",
       "4     groovy  1.907349e-06  1.907349e-06  1.907349e-06  1.907349e-06   \n",
       "\n",
       "          gmean            ap       specifi  \n",
       "0  1.953125e-03  1.953125e-03  1.953125e-03  \n",
       "1  3.296897e-12  9.206337e-16  8.956980e-06  \n",
       "2  1.907349e-06  1.907349e-06  1.907349e-06  \n",
       "3  7.275958e-12  7.275958e-12  1.382432e-10  \n",
       "4  1.907349e-06  1.907349e-06  5.491206e-03  "
      ]
     },
     "execution_count": 3,
     "metadata": {},
     "output_type": "execute_result"
    }
   ],
   "source": [
    "stats_df = pd.read_csv(RESULTS_DIR / f\"{EXP_ID}_stats.csv\")\n",
    "stats_df.head()"
   ]
  },
  {
   "cell_type": "code",
   "execution_count": 4,
   "metadata": {},
   "outputs": [
    {
     "name": "stdout",
     "output_type": "stream",
     "text": [
      "           precision  recall  f1  auc  gmean  ap  specifi\n",
      "project                                                  \n",
      "activemq           1       1   1    1      1   1        1\n",
      "camel              1       1   1    1      1   1        1\n",
      "cassandra          1       1   1    1      1   1        1\n",
      "flink              1       1   1    1      1   1        1\n",
      "groovy             1       1   1    1      1   1        1\n",
      "           precision  recall     f1    auc  gmean     ap  specifi\n",
      "project                                                          \n",
      "activemq       0.002   0.008  0.002  0.002  0.002  0.002    0.002\n",
      "camel          0.000   0.000  0.000  0.000  0.000  0.000    0.000\n",
      "cassandra      0.000   0.000  0.000  0.000  0.000  0.000    0.000\n",
      "flink          0.000   0.000  0.000  0.000  0.000  0.000    0.000\n",
      "groovy         0.000   0.000  0.000  0.000  0.000  0.000    0.005\n"
     ]
    }
   ],
   "source": [
    "# prepare data for heatmap of p-values\n",
    "annot_p_values = np.array(stats_df.iloc[:, 1:])\n",
    "p_values = np.where(annot_p_values < ALPHA, 1, 0)\n",
    "p_values = pd.DataFrame(p_values, columns=stats_df.columns[1:])\n",
    "annot_p_values = pd.DataFrame(annot_p_values, columns=stats_df.columns[1:])\n",
    "p_values[\"project\"] = stats_df[\"project\"]\n",
    "annot_p_values[\"project\"] = stats_df[\"project\"]\n",
    "p_values = p_values.set_index(\"project\")\n",
    "annot_p_values = annot_p_values.set_index(\"project\")\n",
    "\n",
    "p_values = p_values.astype(int)\n",
    "print(p_values.head())\n",
    "\n",
    "annot_p_values = annot_p_values.round(3)\n",
    "print(annot_p_values.head())"
   ]
  },
  {
   "cell_type": "code",
   "execution_count": 5,
   "metadata": {},
   "outputs": [
    {
     "name": "stdout",
     "output_type": "stream",
     "text": [
      "\\begin{tabular}{lrrrrrrr}\n",
      "\\toprule\n",
      "{} &  precision &  recall &     f1 &    auc &  gmean &     ap &  specifi \\\\\n",
      "project   &            &         &        &        &        &        &          \\\\\n",
      "\\midrule\n",
      "activemq  &      0.002 &   0.008 &  0.002 &  0.002 &  0.002 &  0.002 &    0.002 \\\\\n",
      "camel     &      0.000 &   0.000 &  0.000 &  0.000 &  0.000 &  0.000 &    0.000 \\\\\n",
      "cassandra &      0.000 &   0.000 &  0.000 &  0.000 &  0.000 &  0.000 &    0.000 \\\\\n",
      "flink     &      0.000 &   0.000 &  0.000 &  0.000 &  0.000 &  0.000 &    0.000 \\\\\n",
      "groovy    &      0.000 &   0.000 &  0.000 &  0.000 &  0.000 &  0.000 &    0.005 \\\\\n",
      "hbase     &      0.000 &   0.000 &  0.000 &  0.000 &  0.000 &  0.000 &    0.000 \\\\\n",
      "hive      &      0.000 &   0.000 &  0.000 &  0.000 &  0.000 &  0.000 &    0.000 \\\\\n",
      "ignite    &      0.000 &   0.000 &  0.000 &  0.000 &  0.000 &  0.000 &    0.000 \\\\\n",
      "\\bottomrule\n",
      "\\end{tabular}\n",
      "\n"
     ]
    }
   ],
   "source": [
    "# print latex table\n",
    "print(annot_p_values.to_latex())"
   ]
  },
  {
   "cell_type": "code",
   "execution_count": 6,
   "metadata": {},
   "outputs": [
    {
     "data": {
      "text/plain": [
       "<AxesSubplot: ylabel='project'>"
      ]
     },
     "execution_count": 6,
     "metadata": {},
     "output_type": "execute_result"
    },
    {
     "data": {
      "image/png": "[encoded data removed]",
      "text/plain": [
       "<Figure size 640x480 with 2 Axes>"
      ]
     },
     "metadata": {},
     "output_type": "display_data"
    }
   ],
   "source": [
    "sns.heatmap(p_values, annot=annot_p_values, cmap=\"Blues\", fmt=\".3f\", vmin=0, vmax=1, square=True)"
   ]
  },
  {
   "cell_type": "code",
   "execution_count": null,
   "metadata": {},
   "outputs": [],
   "source": []
  }
 ],
 "metadata": {
  "kernelspec": {
   "display_name": "ecoselekt",
   "language": "python",
   "name": "python3"
  },
  "language_info": {
   "codemirror_mode": {
    "name": "ipython",
    "version": 3
   },
   "file_extension": ".py",
   "mimetype": "text/x-python",
   "name": "python",
   "nbconvert_exporter": "python",
   "pygments_lexer": "ipython3",
   "version": "3.9.13"
  },
  "orig_nbformat": 4
 },
 "nbformat": 4,
 "nbformat_minor": 2
}
