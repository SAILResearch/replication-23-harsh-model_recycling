{
 "cells": [
  {
   "cell_type": "code",
   "execution_count": 25,
   "metadata": {},
   "outputs": [],
   "source": [
    "import pickle\n",
    "import warnings\n",
    "import pandas as pd\n",
    "import numpy as np\n",
    "\n",
    "from datetime import datetime, timezone\n",
    "from ecoselekt.settings import settings\n",
    "\n",
    "warnings.filterwarnings('ignore')"
   ]
  },
  {
   "cell_type": "code",
   "execution_count": 20,
   "metadata": {},
   "outputs": [
    {
     "name": "stdout",
     "output_type": "stream",
     "text": [
      "activemq: 26\n",
      "camel: 109\n",
      "cassandra: 36\n",
      "flink: 54\n",
      "groovy: 36\n",
      "hbase: 39\n",
      "hive: 30\n",
      "ignite: 56\n"
     ]
    },
    {
     "data": {
      "text/html": [
       "<div>\n",
       "<style scoped>\n",
       "    .dataframe tbody tr th:only-of-type {\n",
       "        vertical-align: middle;\n",
       "    }\n",
       "\n",
       "    .dataframe tbody tr th {\n",
       "        vertical-align: top;\n",
       "    }\n",
       "\n",
       "    .dataframe thead th {\n",
       "        text-align: right;\n",
       "    }\n",
       "</style>\n",
       "<table border=\"1\" class=\"dataframe\">\n",
       "  <thead>\n",
       "    <tr style=\"text-align: right;\">\n",
       "      <th></th>\n",
       "      <th>project</th>\n",
       "      <th>windowi</th>\n",
       "      <th>windowj</th>\n",
       "      <th>months</th>\n",
       "    </tr>\n",
       "  </thead>\n",
       "  <tbody>\n",
       "    <tr>\n",
       "      <th>0</th>\n",
       "      <td>activemq</td>\n",
       "      <td>0</td>\n",
       "      <td>1</td>\n",
       "      <td>12</td>\n",
       "    </tr>\n",
       "    <tr>\n",
       "      <th>1</th>\n",
       "      <td>activemq</td>\n",
       "      <td>0</td>\n",
       "      <td>2</td>\n",
       "      <td>15</td>\n",
       "    </tr>\n",
       "    <tr>\n",
       "      <th>2</th>\n",
       "      <td>activemq</td>\n",
       "      <td>0</td>\n",
       "      <td>3</td>\n",
       "      <td>21</td>\n",
       "    </tr>\n",
       "    <tr>\n",
       "      <th>3</th>\n",
       "      <td>activemq</td>\n",
       "      <td>0</td>\n",
       "      <td>4</td>\n",
       "      <td>26</td>\n",
       "    </tr>\n",
       "    <tr>\n",
       "      <th>4</th>\n",
       "      <td>activemq</td>\n",
       "      <td>0</td>\n",
       "      <td>5</td>\n",
       "      <td>28</td>\n",
       "    </tr>\n",
       "  </tbody>\n",
       "</table>\n",
       "</div>"
      ],
      "text/plain": [
       "    project windowi windowj months\n",
       "0  activemq       0       1     12\n",
       "1  activemq       0       2     15\n",
       "2  activemq       0       3     21\n",
       "3  activemq       0       4     26\n",
       "4  activemq       0       5     28"
      ]
     },
     "execution_count": 20,
     "metadata": {},
     "output_type": "execute_result"
    }
   ],
   "source": [
    "delta_df = pd.DataFrame(columns=[\"project\", \"windowi\", \"windowj\", \"months\"])\n",
    "\n",
    "for project_name in settings.PROJECTS:\n",
    "    with open(settings.DATA_DIR / f\"{settings.EXP_ID}_{project_name}_windows.pkl\", \"rb\") as f:\n",
    "        windows = pickle.load(f)\n",
    "    print(f\"{project_name}: {len(windows)}\")\n",
    "    for windowi in range(len(windows)-1):\n",
    "        for windowj in range(windowi+1, len(windows)):\n",
    "            x = datetime.fromtimestamp(windows[windowi][\"author_date\"].min(), tz=timezone.utc)\n",
    "            y = datetime.fromtimestamp(windows[windowj][\"author_date\"].max(), tz=timezone.utc)\n",
    "            delta_df = delta_df.append(\n",
    "                {\n",
    "                    \"project\": project_name,\n",
    "                    \"windowi\": windowi,\n",
    "                    \"windowj\": windowj,\n",
    "                    \"months\": (y-x).days//30\n",
    "                },\n",
    "                ignore_index=True\n",
    "            )\n",
    "\n",
    "delta_df.head()"
   ]
  },
  {
   "cell_type": "code",
   "execution_count": 21,
   "metadata": {},
   "outputs": [
    {
     "data": {
      "text/html": [
       "<div>\n",
       "<style scoped>\n",
       "    .dataframe tbody tr th:only-of-type {\n",
       "        vertical-align: middle;\n",
       "    }\n",
       "\n",
       "    .dataframe tbody tr th {\n",
       "        vertical-align: top;\n",
       "    }\n",
       "\n",
       "    .dataframe thead th {\n",
       "        text-align: right;\n",
       "    }\n",
       "</style>\n",
       "<table border=\"1\" class=\"dataframe\">\n",
       "  <thead>\n",
       "    <tr style=\"text-align: right;\">\n",
       "      <th></th>\n",
       "      <th>project</th>\n",
       "      <th>windowi</th>\n",
       "      <th>windowj</th>\n",
       "      <th>months</th>\n",
       "    </tr>\n",
       "  </thead>\n",
       "  <tbody>\n",
       "    <tr>\n",
       "      <th>1910</th>\n",
       "      <td>camel</td>\n",
       "      <td>15</td>\n",
       "      <td>86</td>\n",
       "      <td>102</td>\n",
       "    </tr>\n",
       "  </tbody>\n",
       "</table>\n",
       "</div>"
      ],
      "text/plain": [
       "     project windowi windowj months\n",
       "1910   camel      15      86    102"
      ]
     },
     "execution_count": 21,
     "metadata": {},
     "output_type": "execute_result"
    }
   ],
   "source": [
    "delta_df[(delta_df[\"project\"] == \"camel\") & (delta_df[\"windowi\"] == 15) & (delta_df[\"windowj\"] == 86)]"
   ]
  },
  {
   "cell_type": "code",
   "execution_count": 27,
   "metadata": {},
   "outputs": [
    {
     "name": "stdout",
     "output_type": "stream",
     "text": [
      "min: 8 max: 123 median: 33.0 mean: 41.89922480620155\n"
     ]
    }
   ],
   "source": [
    "months = []\n",
    "for project_name in settings.PROJECTS:\n",
    "    with open(settings.DATA_DIR / f\"{settings.EXP_ID}_{project_name}_windows.pkl\", \"rb\") as f:\n",
    "        windows = pickle.load(f)\n",
    "    for i in range(1, len(windows)-15):\n",
    "        x = datetime.fromtimestamp(windows[i][\"author_date\"].min(), tz=timezone.utc)\n",
    "        y = datetime.fromtimestamp(windows[i+15][\"author_date\"].max(), tz=timezone.utc)\n",
    "        months.append((y-x).days//30)\n",
    "print(f\"min: {min(months)} max: {max(months)} median: {np.median(months)} mean: {np.mean(months)}\")"
   ]
  },
  {
   "cell_type": "code",
   "execution_count": 32,
   "metadata": {},
   "outputs": [
    {
     "name": "stdout",
     "output_type": "stream",
     "text": [
      "min: 27 max: 1561 median: 289.5 mean: 365.7383419689119\n"
     ]
    }
   ],
   "source": [
    "days = []\n",
    "\n",
    "for project_name in settings.PROJECTS:\n",
    "    with open(settings.DATA_DIR / f\"{settings.EXP_ID}_{project_name}_windows.pkl\", \"rb\") as f:\n",
    "        windows = pickle.load(f)\n",
    "    for window in windows:\n",
    "        x = datetime.fromtimestamp(window[\"author_date\"].min(), tz=timezone.utc)\n",
    "        y = datetime.fromtimestamp(window[\"author_date\"].max(), tz=timezone.utc)\n",
    "        days.append((y-x).days)\n",
    "\n",
    "print(f\"min: {min(days)} max: {max(days)} median: {np.median(days)} mean: {np.mean(days)}\")"
   ]
  }
 ],
 "metadata": {
  "kernelspec": {
   "display_name": "ecoselekt",
   "language": "python",
   "name": "python3"
  },
  "language_info": {
   "codemirror_mode": {
    "name": "ipython",
    "version": 3
   },
   "file_extension": ".py",
   "mimetype": "text/x-python",
   "name": "python",
   "nbconvert_exporter": "python",
   "pygments_lexer": "ipython3",
   "version": "3.9.13"
  },
  "orig_nbformat": 4
 },
 "nbformat": 4,
 "nbformat_minor": 2
}
